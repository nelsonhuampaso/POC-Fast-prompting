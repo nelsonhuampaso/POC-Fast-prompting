{
 "cells": [
  {
   "cell_type": "markdown",
   "id": "8b391696-bc58-48f5-b5b3-759c0af6e097",
   "metadata": {},
   "source": [
    "# POC:Fast Prompting Futbol e Indumentaria.\n",
    "## Estas tecnicas de Fast Prompting permiten interactuar mejor con el contenido digital."
   ]
  },
  {
   "cell_type": "code",
   "execution_count": null,
   "id": "68b75f94-4101-475e-9a72-161c9d4add51",
   "metadata": {},
   "outputs": [],
   "source": [
    "import google.generativeai as genai\n",
    "genai.configure(api_key=\"TU_GEMINI_API_KEY\")"
   ]
  },
  {
   "cell_type": "markdown",
   "id": "0f50cca6-613f-4f77-b60e-6d1880d7d8e9",
   "metadata": {},
   "source": [
    "## Enfoque inicial"
   ]
  },
  {
   "cell_type": "code",
   "execution_count": 8,
   "id": "df8a0f02-660e-48b8-b4db-7bfa322f5ee2",
   "metadata": {},
   "outputs": [
    {
     "ename": "NameError",
     "evalue": "name 'genai' is not defined",
     "output_type": "error",
     "traceback": [
      "\u001b[31m---------------------------------------------------------------------------\u001b[39m",
      "\u001b[31mNameError\u001b[39m                                 Traceback (most recent call last)",
      "\u001b[36mCell\u001b[39m\u001b[36m \u001b[39m\u001b[32mIn[8]\u001b[39m\u001b[32m, line 1\u001b[39m\n\u001b[32m----> \u001b[39m\u001b[32m1\u001b[39m model = \u001b[43mgenai\u001b[49m.GenerativeModel(\u001b[33m'\u001b[39m\u001b[33mgemini-pro\u001b[39m\u001b[33m'\u001b[39m)\n\u001b[32m      2\u001b[39m prompt = \u001b[33m\"\u001b[39m\u001b[33mEscribí un texto para solicitar ejemplos de escudos y camisetas.\u001b[39m\u001b[33m\"\u001b[39m\n\u001b[32m      4\u001b[39m respuesta = model.generate_content(\n\u001b[32m      5\u001b[39m     prompt,\n\u001b[32m      6\u001b[39m     generation_config=genai.types.GenerationConfig(\n\u001b[32m   (...)\u001b[39m\u001b[32m      9\u001b[39m     )\n\u001b[32m     10\u001b[39m )\n",
      "\u001b[31mNameError\u001b[39m: name 'genai' is not defined"
     ]
    }
   ],
   "source": [
    "model = genai.GenerativeModel('gemini-pro')\n",
    "prompt = \"Escribí un texto para solicitar ejemplos de escudos y camisetas.\"\n",
    "\n",
    "respuesta = model.generate_content(\n",
    "    prompt,\n",
    "    generation_config=genai.types.GenerationConfig(\n",
    "        max_output_tokens=200,\n",
    "        temperature=0.7\n",
    "    )\n",
    ")\n",
    "print(respuesta.text)"
   ]
  },
  {
   "cell_type": "markdown",
   "id": "4635a9c5-6674-4da3-b56f-758351f8b9b2",
   "metadata": {},
   "source": [
    "## Promp optimizado con Fast Prompting"
   ]
  },
  {
   "cell_type": "code",
   "execution_count": 9,
   "id": "237ec2e7-e876-4ece-a34b-90512602e26b",
   "metadata": {},
   "outputs": [
    {
     "ename": "NameError",
     "evalue": "name 'model' is not defined",
     "output_type": "error",
     "traceback": [
      "\u001b[31m---------------------------------------------------------------------------\u001b[39m",
      "\u001b[31mNameError\u001b[39m                                 Traceback (most recent call last)",
      "\u001b[36mCell\u001b[39m\u001b[36m \u001b[39m\u001b[32mIn[9]\u001b[39m\u001b[32m, line 12\u001b[39m\n\u001b[32m      3\u001b[39m publico = \u001b[33m\"\u001b[39m\u001b[33mcanchas de fútbol y comercios que crean indumentaria deportiva\u001b[39m\u001b[33m\"\u001b[39m\n\u001b[32m      5\u001b[39m prompt_fast = \u001b[33mf\u001b[39m\u001b[33m\"\"\"\u001b[39m\n\u001b[32m      6\u001b[39m \u001b[33mActúa como un experto en marketing digital para PyMEs.\u001b[39m\n\u001b[32m      7\u001b[39m \u001b[33mGenera una publicación para Instagram que promocione \u001b[39m\u001b[38;5;132;01m{\u001b[39;00mproducto\u001b[38;5;132;01m}\u001b[39;00m\u001b[33m.\u001b[39m\n\u001b[32m      8\u001b[39m \u001b[33mEl texto debe ser breve, con un tono \u001b[39m\u001b[38;5;132;01m{\u001b[39;00mtono\u001b[38;5;132;01m}\u001b[39;00m\u001b[33m, orientado a \u001b[39m\u001b[38;5;132;01m{\u001b[39;00mpublico\u001b[38;5;132;01m}\u001b[39;00m\u001b[33m.\u001b[39m\n\u001b[32m      9\u001b[39m \u001b[33mIncluye un llamado a la acción atractivo.\u001b[39m\n\u001b[32m     10\u001b[39m \u001b[33m\"\"\"\u001b[39m\n\u001b[32m---> \u001b[39m\u001b[32m12\u001b[39m respuesta_fast = \u001b[43mmodel\u001b[49m.generate_content(\n\u001b[32m     13\u001b[39m     prompt_fast,\n\u001b[32m     14\u001b[39m     generation_config=genai.types.GenerationConfig(\n\u001b[32m     15\u001b[39m         max_output_tokens=\u001b[32m150\u001b[39m\n\u001b[32m     16\u001b[39m     )\n\u001b[32m     17\u001b[39m )\n\u001b[32m     18\u001b[39m \u001b[38;5;28mprint\u001b[39m(respuesta_fast.text)\n",
      "\u001b[31mNameError\u001b[39m: name 'model' is not defined"
     ]
    }
   ],
   "source": [
    "producto = \"camisetas y escudos personalizados\"\n",
    "tono = \"apasionado y profesional\"\n",
    "publico = \"canchas de fútbol y comercios que crean indumentaria deportiva\"\n",
    "\n",
    "prompt_fast = f\"\"\"\n",
    "Actúa como un experto en marketing digital para PyMEs.\n",
    "Genera una publicación para Instagram que promocione {producto}.\n",
    "El texto debe ser breve, con un tono {tono}, orientado a {publico}.\n",
    "Incluye un llamado a la acción atractivo.\n",
    "\"\"\"\n",
    "\n",
    "respuesta_fast = model.generate_content(\n",
    "    prompt_fast,\n",
    "    generation_config=genai.types.GenerationConfig(\n",
    "        max_output_tokens=150\n",
    "    )\n",
    ")\n",
    "print(respuesta_fast.text)"
   ]
  },
  {
   "cell_type": "markdown",
   "id": "b72f23dd-0b65-46f7-9f70-fbd72b0c02bb",
   "metadata": {},
   "source": [
    "## Comparación de resultados\n",
    "- El prompt básico genera un texto genérico.\n",
    "- El prompt optimizado es mas específico y orientado al público objetivo."
   ]
  },
  {
   "cell_type": "markdown",
   "id": "6c1a6715-9314-4e6e-9e1b-f26751f47380",
   "metadata": {},
   "source": [
    "## Conclusión\n",
    "\n",
    "Las metodologías de prompting avanzado facilitan la obtención de respuestas más precisas y contextualmente relevantes mediante estrategias optimizadas, reduciendo la necesidad de múltiples refinamientos y maximizando la eficiencia operativa. Esta aproximación fortalece el objetivo central de capacitar a pequeñas y medianas empresas para desarrollar contenido digital de alta calidad de manera accesible y efectiva."
   ]
  }
 ],
 "metadata": {
  "kernelspec": {
   "display_name": "Python 3 (ipykernel)",
   "language": "python",
   "name": "python3"
  },
  "language_info": {
   "codemirror_mode": {
    "name": "ipython",
    "version": 3
   },
   "file_extension": ".py",
   "mimetype": "text/x-python",
   "name": "python",
   "nbconvert_exporter": "python",
   "pygments_lexer": "ipython3",
   "version": "3.13.5"
  }
 },
 "nbformat": 4,
 "nbformat_minor": 5
}
